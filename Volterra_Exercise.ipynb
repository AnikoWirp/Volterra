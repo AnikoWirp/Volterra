{
 "cells": [
  {
   "cell_type": "markdown",
   "metadata": {},
   "source": [
    "\n",
    "<h1 id=\"Earthquake-Source-Physics Exercise\">Earthquake Source Physics Exercise<a class=\"anchor-link\" href=\"#Earthquake-Source-Physics Exercise\">¶</a></h1><h2 id=\"Interseismic-Deformation\">Interseismic Deformation<a class=\"anchor-link\" href=\"#Interseismic-Deformation\">¶</a></h2><p>This notebook illustrates the displacements and strains for interseismic deformation (i.e. a buried dislocation\n",
    "extending to $-\\infty$ in the $-x_2$ direction with a free surface).</p>\n"
   ]
  },
  {
   "cell_type": "code",
   "execution_count": 1,
   "metadata": {},
   "outputs": [],
   "source": [
    "\n",
    "import numpy as np\n",
    "import matplotlib.pyplot as plt\n",
    "\n"
   ]
  },
  {
   "cell_type": "code",
   "execution_count": 2,
   "metadata": {},
   "outputs": [],
   "source": [
    "\n",
    "s = 1.     # slip\n",
    "d = 2.     # depth of dislocation\n",
    "scale = 5. # spatial scale of plot\n",
    "mu = 1.    # shear modulus\n",
    "nx = 100   # number of grid points for making plots\n",
    "x1 = np.linspace(-scale, scale, 2*nx)\n",
    "x2 = np.linspace(-scale, 0., nx)\n",
    "x1grid, x2grid = np.meshgrid(x1, x2)\n",
    "\n"
   ]
  },
  {
   "cell_type": "markdown",
   "metadata": {},
   "source": [
    "\n",
    "<p>We will look at the displacements and the strains at the free surface. We found that the surface displacement is</p>\n",
    "$$ u_3 = \\frac{s}{\\pi}\\arctan\\left(\\frac{x_1}{d}\\right)$$<p>Differentiating with respect to $x_1$ gives us the surface strain</p>\n",
    "$$ \\epsilon_{13} = \\frac{1}{2}\\frac{\\partial u_3}{\\partial x_1} = \\frac{s}{2\\pi d}\\frac{1}{1+(x_1/d)^2} $$\n"
   ]
  },
  {
   "cell_type": "code",
   "execution_count": 3,
   "metadata": {},
   "outputs": [],
   "source": [
    "\n",
    "s = 1.     # slip\n",
    "d = 2.     # depth of dislocation\n",
    "scale = 5. # spatial scale of plot\n",
    "mu = 1.    # shear modulus\n",
    "nx = 100   # number of grid points for making plots\n",
    "x1 = np.linspace(-4.*scale, 4.*scale, 8*nx)\n",
    "u3 = s/np.pi*np.arctan(x1/d)\n",
    "e13 = s/2./np.pi/d/(1.+(x1/d)**2)\n",
    "\n"
   ]
  },
  {
   "cell_type": "code",
   "execution_count": 4,
   "metadata": {},
   "outputs": [],
   "source": [
    "\n",
    "def plot_surf(x, y, label, title):\n",
    "    \"helper function for making xy plots for surface data\"\n",
    "    plt.figure(figsize=(3.25, 2.75))\n",
    "    plt.plot(x, y)\n",
    "    plt.xlabel('$x_1$')\n",
    "    plt.ylabel(label)\n",
    "    plt.title(title)\n",
    "    plt.show()\n",
    "\n"
   ]
  },
  {
   "cell_type": "code",
   "execution_count": 5,
   "metadata": {},
   "outputs": [
    {
     "data": {
      "image/png": "[encoded data removed]",
      "text/plain": [
       "<Figure size 234x198 with 1 Axes>"
      ]
     },
     "metadata": {
      "needs_background": "light"
     },
     "output_type": "display_data"
    },
    {
     "data": {
      "image/png": "[encoded data removed]",
      "text/plain": [
       "<Figure size 234x198 with 1 Axes>"
      ]
     },
     "metadata": {
      "needs_background": "light"
     },
     "output_type": "display_data"
    }
   ],
   "source": [
    "\n",
    "plot_surf(x1, u3, '$u_3$', 'Surface Displacements')\n",
    "plot_surf(x1, e13, '$\\epsilon_{13}$', 'Surface Strain')\n",
    "\n"
   ]
  },
  {
   "cell_type": "markdown",
   "metadata": {},
   "source": [
    "\n",
    "<p>To get the surface stress field $\\sigma_{13}$, multiply by twice the shear modulus. Since it is a free surface, $\\sigma_{23} = 0$.</p>\n",
    "<p>Note that the strain is positive -- interseismic deformation <em>accumulates</em> strain. As we will see, shallow slip relieves this strain, leading to no net strain accumulation over the entire seismic cycle. This has motivated various models of strain accumulation and seismic gaps (places that show a slip deficit relative to its surroundings). However, this is an extremely simplified picture, and it remains an open question whether or not this idealized model has any use.</p>\n"
   ]
  },
  {
   "cell_type": "code",
   "execution_count": null,
   "metadata": {
    "collapsed": true
   },
   "outputs": [],
   "source": [
    "\n",
    " \n",
    "\n"
   ]
  }
 ],
 "metadata": {
  "kernelspec": {
   "display_name": "Python 3",
   "language": "python",
   "name": "python3"
  },
  "language_info": {
   "codemirror_mode": {
    "name": "ipython",
    "version": 3
   },
   "file_extension": ".py",
   "mimetype": "text/x-python",
   "name": "python",
   "nbconvert_exporter": "python",
   "pygments_lexer": "ipython3",
   "version": "3.7.6"
  }
 },
 "nbformat": 4,
 "nbformat_minor": 1
}
